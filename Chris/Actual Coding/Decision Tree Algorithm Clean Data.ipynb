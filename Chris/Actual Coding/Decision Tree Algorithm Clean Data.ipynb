{
 "cells": [
  {
   "cell_type": "code",
   "execution_count": 3,
   "id": "dbb03bec",
   "metadata": {},
   "outputs": [],
   "source": [
    "import matplotlib.pyplot as plt\n",
    "import numpy as np\n",
    "import pandas as pd\n",
    "from sklearn.model_selection import train_test_split\n",
    "from sklearn import tree\n",
    "from sklearn.tree import DecisionTreeClassifier, export_graphviz\n",
    "from sklearn.metrics import classification_report, accuracy_score, confusion_matrix\n",
    "from IPython.display import Image\n",
    "from sklearn import preprocessing\n",
    "from sklearn import utils\n",
    "import pydotplus\n",
    "from sklearn.model_selection import GridSearchCV\n",
    "import warnings\n",
    "\n",
    "\n",
    "from Load_Data_Clean import load_dataset\n",
    "images, probabilities = load_dataset()"
   ]
  },
  {
   "cell_type": "code",
   "execution_count": 4,
   "id": "7ced6469",
   "metadata": {},
   "outputs": [
    {
     "name": "stdout",
     "output_type": "stream",
     "text": [
      "[[[14 14 14 ...  9  9  9]\n",
      "  [15 15 15 ... 10  9  9]\n",
      "  [15 15 16 ... 10 10 10]\n",
      "  ...\n",
      "  [29 29 29 ... 19 18  4]\n",
      "  [29 29 29 ... 18 18  4]\n",
      "  [29 29 29 ... 18 18  4]]\n",
      "\n",
      " [[29 29 29 ... 17 16  3]\n",
      "  [29 29 29 ... 17 16  3]\n",
      "  [29 29 29 ... 16 15  3]\n",
      "  ...\n",
      "  [21 22 21 ... 12 12 11]\n",
      "  [20 20 20 ... 12 12 11]\n",
      "  [19 19 18 ... 12 12 10]]\n",
      "\n",
      " [[29 29 30 ... 19 18  4]\n",
      "  [29 30 30 ... 19 18  4]\n",
      "  [30 30 31 ... 18 18  3]\n",
      "  ...\n",
      "  [35 35 35 ... 21 12  0]\n",
      "  [35 35 35 ... 21 12  0]\n",
      "  [35 35 35 ... 21 12  0]]\n",
      "\n",
      " ...\n",
      "\n",
      " [[66 65 62 ... 62 62 62]\n",
      "  [64 62 61 ... 60 60 61]\n",
      "  [63 61 59 ... 61 60 60]\n",
      "  ...\n",
      "  [45 50 55 ... 57 51 47]\n",
      "  [45 47 48 ... 52 49 46]\n",
      "  [43 43 44 ... 48 46 44]]\n",
      "\n",
      " [[64 65 64 ... 68 69 67]\n",
      "  [62 62 63 ... 66 67 66]\n",
      "  [61 60 61 ... 68 67 67]\n",
      "  ...\n",
      "  [47 45 46 ... 54 48 48]\n",
      "  [44 42 42 ... 53 47 47]\n",
      "  [44 41 41 ... 51 46 46]]\n",
      "\n",
      " [[67 68 66 ... 64 64 63]\n",
      "  [67 67 66 ... 63 62 63]\n",
      "  [67 66 64 ... 66 63 63]\n",
      "  ...\n",
      "  [48 48 49 ... 65 55 50]\n",
      "  [46 45 45 ... 59 51 47]\n",
      "  [44 43 42 ... 51 47 45]]]\n",
      "[1. 1. 1. ... 0. 0. 0.]\n"
     ]
    }
   ],
   "source": [
    "print(images)\n",
    "print(probabilities)"
   ]
  },
  {
   "cell_type": "code",
   "execution_count": 5,
   "id": "f721acdc",
   "metadata": {},
   "outputs": [],
   "source": [
    "x = images\n",
    "y = probabilities\n",
    "\n",
    "x_train, x_test, y_train, y_test = train_test_split(x, y,test_size=0.25)\n",
    "\n",
    "x_train.shape,y_train.shape\n",
    "\n",
    "number_of_samples,width,length = x_train.shape\n",
    "x_train_2 = x_train.reshape((number_of_samples,width*length))\n",
    "\n",
    "lab = preprocessing.LabelEncoder()\n",
    "y_transformed = lab.fit_transform(y_train)"
   ]
  },
  {
   "cell_type": "code",
   "execution_count": 6,
   "id": "23eb0d94",
   "metadata": {},
   "outputs": [
    {
     "data": {
      "text/plain": [
       "DecisionTreeClassifier()"
      ]
     },
     "execution_count": 6,
     "metadata": {},
     "output_type": "execute_result"
    }
   ],
   "source": [
    "dtc = DecisionTreeClassifier()\n",
    "dtc.fit(x_train_2,y_transformed)"
   ]
  },
  {
   "cell_type": "code",
   "execution_count": 8,
   "id": "5ba5350a",
   "metadata": {},
   "outputs": [
    {
     "name": "stdout",
     "output_type": "stream",
     "text": [
      "Classification Report: \n",
      "\n",
      "               precision    recall  f1-score   support\n",
      "\n",
      "           0       0.82      0.77      0.79       393\n",
      "           1       0.52      0.60      0.55       163\n",
      "\n",
      "    accuracy                           0.72       556\n",
      "   macro avg       0.67      0.68      0.67       556\n",
      "weighted avg       0.73      0.72      0.72       556\n",
      "\n",
      "Accuracy:  0.7176258992805755\n"
     ]
    }
   ],
   "source": [
    "number_of_samples,width,length = x_test.shape\n",
    "x_test_2 = x_test.reshape((number_of_samples,width*length))\n",
    "\n",
    "lab = preprocessing.LabelEncoder()\n",
    "y_transformed_2 = lab.fit_transform(y_test)\n",
    "\n",
    "x_pred = dtc.predict(x_train_2)\n",
    "y_pred = dtc.predict(x_test_2)\n",
    "\n",
    "print(\"Classification Report: \\n\\n\",classification_report(y_transformed_2,y_pred, target_names = ['0', '1']))\n",
    "print(\"Accuracy: \",accuracy_score(y_transformed_2, y_pred))"
   ]
  },
  {
   "cell_type": "code",
   "execution_count": null,
   "id": "b96edccb",
   "metadata": {},
   "outputs": [],
   "source": []
  }
 ],
 "metadata": {
  "kernelspec": {
   "display_name": "Python 3 (ipykernel)",
   "language": "python",
   "name": "python3"
  },
  "language_info": {
   "codemirror_mode": {
    "name": "ipython",
    "version": 3
   },
   "file_extension": ".py",
   "mimetype": "text/x-python",
   "name": "python",
   "nbconvert_exporter": "python",
   "pygments_lexer": "ipython3",
   "version": "3.9.7"
  }
 },
 "nbformat": 4,
 "nbformat_minor": 5
}
