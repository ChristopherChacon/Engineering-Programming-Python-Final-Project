{
  "nbformat": 4,
  "nbformat_minor": 0,
  "metadata": {
    "colab": {
      "name": "Data Formatting.ipynb",
      "provenance": []
    },
    "kernelspec": {
      "name": "python3",
      "display_name": "Python 3"
    },
    "language_info": {
      "name": "python"
    }
  },
  "cells": [
    {
      "cell_type": "markdown",
      "source": [
        ""
      ],
      "metadata": {
        "id": "ljW9YCcsV2m2"
      }
    },
    {
      "cell_type": "markdown",
      "source": [
        "Sam Ellis"
      ],
      "metadata": {
        "id": "H_E-qbhUVsU8"
      }
    },
    {
      "cell_type": "code",
      "execution_count": null,
      "metadata": {
        "colab": {
          "base_uri": "https://localhost:8080/"
        },
        "id": "9d4mv5OlBsQh",
        "outputId": "a98a2412-be82-4c9a-f9ad-e67b4daa80ec"
      },
      "outputs": [
        {
          "output_type": "stream",
          "name": "stdout",
          "text": [
            "Mounted at /content/gdrive\n"
          ]
        }
      ],
      "source": [
        "from google.colab import drive\n",
        "drive.mount('/content/gdrive')"
      ]
    },
    {
      "cell_type": "markdown",
      "source": [
        "I wouldnt bother reading this one. I just take the dataset and delete classes .33 / .66. The reasoning behind this is explained in the report. "
      ],
      "metadata": {
        "id": "hIpVpXyhVvzZ"
      }
    },
    {
      "cell_type": "code",
      "source": [
        "label_path = '/elpv-dataset/labels.csv'"
      ],
      "metadata": {
        "id": "Rd-n1_XGB2Rc"
      },
      "execution_count": 6,
      "outputs": []
    },
    {
      "cell_type": "code",
      "source": [
        "import pandas as pd\n",
        "import numpy as np"
      ],
      "metadata": {
        "id": "uek8UxMTB4vx"
      },
      "execution_count": null,
      "outputs": []
    },
    {
      "cell_type": "code",
      "source": [
        "df = pd.read_csv(label_path, delim_whitespace=True, names=['path', 'class', 'type'])\n",
        "df.drop('type', inplace=True, axis=1)\n",
        "\n",
        "df.drop(df.loc[df['class'] == 1/3].index, axis=0, inplace=True)\n",
        "df.drop(df.loc[df['class'] == 2/3].index, axis=0, inplace=True)\n",
        "print(df['class'].value_counts())"
      ],
      "metadata": {
        "id": "pRqCCmjOB7qe",
        "colab": {
          "base_uri": "https://localhost:8080/"
        },
        "outputId": "6d4ccc95-ef2e-437b-9f56-e780996c168f"
      },
      "execution_count": null,
      "outputs": [
        {
          "output_type": "stream",
          "name": "stdout",
          "text": [
            "0.0    1508\n",
            "1.0     715\n",
            "Name: class, dtype: int64\n"
          ]
        }
      ]
    },
    {
      "cell_type": "code",
      "source": [
        "\n",
        "df = pd.get_dummies(df, columns = ['class'])\n",
        "test = df.sample(frac = .2, replace=False, random_state=69)\n",
        "df.drop(test.index, axis=0, inplace=True)\n",
        "print(df.shape)\n",
        "print(test.shape)\n",
        "df.to_csv('train', index=False)\n",
        "test.to_csv('test', index=False)"
      ],
      "metadata": {
        "colab": {
          "base_uri": "https://localhost:8080/"
        },
        "id": "m5SMKs7eFadE",
        "outputId": "a4838c34-7f8b-41fd-922c-d81b8e7797a2"
      },
      "execution_count": null,
      "outputs": [
        {
          "output_type": "stream",
          "name": "stdout",
          "text": [
            "(1778, 3)\n",
            "(445, 3)\n"
          ]
        }
      ]
    }
  ]
}